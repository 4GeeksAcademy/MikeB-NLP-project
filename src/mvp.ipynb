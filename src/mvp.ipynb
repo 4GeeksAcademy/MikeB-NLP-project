{
    "cells": [
        {
            "cell_type": "markdown",
            "metadata": {},
            "source": [
                "# Natural language processing: spam detection"
            ]
        },
        {
            "cell_type": "code",
            "execution_count": 1,
            "metadata": {},
            "outputs": [],
            "source": [
                "# Handle imports up-front\n",
                "import spacy\n",
                "import regex as re\n",
                "import pandas as pd\n",
                "import seaborn as sns\n",
                "import matplotlib.pyplot as plt\n",
                "from sklearn.model_selection import train_test_split\n",
                "from nltk import download\n",
                "from sklearn.svm import SVC\n",
                "from nltk.corpus import stopwords\n",
                "from nltk.stem import WordNetLemmatizer\n",
                "from sklearn.model_selection import GridSearchCV\n",
                "from sklearn.feature_extraction.text import TfidfVectorizer\n",
                "from sklearn.metrics import accuracy_score, classification_report, confusion_matrix"
            ]
        },
        {
            "cell_type": "markdown",
            "metadata": {},
            "source": [
                "## 1. Data loading\n",
                "\n",
                "### 1.1. Load the data"
            ]
        },
        {
            "cell_type": "code",
            "execution_count": 2,
            "metadata": {},
            "outputs": [],
            "source": [
                "# Read csv file into dataframe\n",
                "data_df=pd.read_csv('https://raw.githubusercontent.com/4GeeksAcademy/NLP-project-tutorial/main/url_spam.csv')"
            ]
        },
        {
            "cell_type": "markdown",
            "metadata": {},
            "source": [
                "### 1.2. Inspect the data"
            ]
        },
        {
            "cell_type": "code",
            "execution_count": 3,
            "metadata": {},
            "outputs": [
                {
                    "name": "stdout",
                    "output_type": "stream",
                    "text": [
                        "                                                 url  is_spam\n",
                        "0  https://briefingday.us8.list-manage.com/unsubs...     True\n",
                        "1                             https://www.hvper.com/     True\n",
                        "2                 https://briefingday.com/m/v4n3i4f3     True\n",
                        "3   https://briefingday.com/n/20200618/m#commentform    False\n",
                        "4                        https://briefingday.com/fan     True\n"
                    ]
                }
            ],
            "source": [
                "# Your code here\n",
                "print(data_df.head())"
            ]
        },
        {
            "cell_type": "code",
            "execution_count": 4,
            "metadata": {},
            "outputs": [
                {
                    "name": "stdout",
                    "output_type": "stream",
                    "text": [
                        "<class 'pandas.core.frame.DataFrame'>\n",
                        "RangeIndex: 2999 entries, 0 to 2998\n",
                        "Data columns (total 2 columns):\n",
                        " #   Column   Non-Null Count  Dtype \n",
                        "---  ------   --------------  ----- \n",
                        " 0   url      2999 non-null   object\n",
                        " 1   is_spam  2999 non-null   bool  \n",
                        "dtypes: bool(1), object(1)\n",
                        "memory usage: 26.5+ KB\n",
                        "None\n",
                        "is_spam\n",
                        "False    2303\n",
                        "True      696\n",
                        "Name: count, dtype: int64\n"
                    ]
                }
            ],
            "source": [
                "print(data_df.info())\n",
                "print(data_df['is_spam'].value_counts())"
            ]
        },
        {
            "cell_type": "markdown",
            "metadata": {},
            "source": [
                "### 1.3. Train-test split"
            ]
        },
        {
            "cell_type": "code",
            "execution_count": 5,
            "metadata": {},
            "outputs": [],
            "source": [
                "# Your code here\n",
                "from sklearn.model_selection import train_test_split\n",
                "\n",
                "X = data_df['url']  # Features (URLs)\n",
                "y = data_df['is_spam']  # Target labels (spam or non-spam)\n",
                "\n",
                "X_train, X_test, y_train, y_test = train_test_split(X, y, test_size=0.2, stratify=y, random_state=42)"
            ]
        },
        {
            "cell_type": "markdown",
            "metadata": {},
            "source": [
                "## 2. EDA\n",
                "\n",
                "### 2.1. Text preprocessing"
            ]
        },
        {
            "cell_type": "code",
            "execution_count": 6,
            "metadata": {},
            "outputs": [
                {
                    "name": "stdout",
                    "output_type": "stream",
                    "text": [
                        "0    briefingday us8 list manage com unsubscribe\n",
                        "1                                     hvper com \n",
                        "2                     briefingday com m v4n3i4f3\n",
                        "3       briefingday com n 20200618 m commentform\n",
                        "4                            briefingday com fan\n",
                        "Name: clean_url, dtype: object\n"
                    ]
                }
            ],
            "source": [
                "# Your code here - think about how you are cleaning the text. Look at some examples, are there words we should filter out?\n",
                "def preprocess_url(url):\n",
                "    url = url.lower()  # Convert to lowercase\n",
                "    url = re.sub(r'www\\.|https?:\\/\\/', '', url)  # Remove \"www.\" and \"http://\"\n",
                "    url = re.sub(r'[^a-z0-9]', ' ', url)  # Remove special characters\n",
                "    return url\n",
                "\n",
                "data_df['clean_url'] = data_df['url'].apply(preprocess_url)\n",
                "print(data_df['clean_url'].head())  # See preprocessed URLs"
            ]
        },
        {
            "cell_type": "markdown",
            "metadata": {},
            "source": [
                "### 2.2. Lematization"
            ]
        },
        {
            "cell_type": "code",
            "execution_count": 7,
            "metadata": {},
            "outputs": [],
            "source": [
                "# Your code here\n",
                "nlp = spacy.load('en_core_web_sm')\n",
                "\n",
                "def lemmatize_url(url):\n",
                "    doc = nlp(url)\n",
                "    return \" \".join([token.lemma_ for token in doc])\n",
                "\n",
                "data_df['lemmatized_url'] = data_df['clean_url'].apply(lemmatize_url)"
            ]
        },
        {
            "cell_type": "markdown",
            "metadata": {},
            "source": [
                "### 2.3. Vectorization"
            ]
        },
        {
            "cell_type": "code",
            "execution_count": 8,
            "metadata": {},
            "outputs": [
                {
                    "data": {
                        "image/png": "[encoded data removed]",
                        "text/plain": [
                            "<Figure size 640x480 with 1 Axes>"
                        ]
                    },
                    "metadata": {},
                    "output_type": "display_data"
                }
            ],
            "source": [
                "# Your code here. Take a look at the features. Do we need all of them? Could we reduce dimensionality or do feature selection?\n",
                "data_df['url_length'] = data_df['url'].apply(len)\n",
                "plt.hist(data_df['url_length'], bins=30, alpha=0.7)\n",
                "plt.xlabel('URL Length')\n",
                "plt.ylabel('Count')\n",
                "plt.title('Distribution of URL Lengths')\n",
                "plt.show()"
            ]
        },
        {
            "cell_type": "code",
            "execution_count": 9,
            "metadata": {},
            "outputs": [],
            "source": [
                "vectorizer = TfidfVectorizer(max_features=5000)\n",
                "X_train_tfidf = vectorizer.fit_transform(X_train)\n",
                "X_test_tfidf = vectorizer.transform(X_test)"
            ]
        },
        {
            "cell_type": "code",
            "execution_count": 10,
            "metadata": {},
            "outputs": [
                {
                    "data": {
                        "image/png": "[encoded data removed]",
                        "text/plain": [
                            "<Figure size 640x480 with 1 Axes>"
                        ]
                    },
                    "metadata": {},
                    "output_type": "display_data"
                }
            ],
            "source": [
                "tfidf_values = X_train_tfidf.mean(axis=0).A1\n",
                "sns.histplot(tfidf_values, bins=30, kde=True)\n",
                "plt.xlabel(\"TF-IDF Value\")\n",
                "plt.ylabel(\"Count\")\n",
                "plt.title(\"Distribution of Mean TF-IDF Values\")\n",
                "plt.show()"
            ]
        },
        {
            "cell_type": "markdown",
            "metadata": {},
            "source": [
                "## 3. SVM model\n",
                "\n",
                "### 3.1. Baseline model performance"
            ]
        },
        {
            "cell_type": "code",
            "execution_count": 11,
            "metadata": {},
            "outputs": [
                {
                    "name": "stdout",
                    "output_type": "stream",
                    "text": [
                        "Baseline Accuracy: 0.9500\n"
                    ]
                }
            ],
            "source": [
                "# Your code here\n",
                "model = SVC(kernel='linear', random_state=42)\n",
                "model.fit(X_train_tfidf, y_train)\n",
                "\n",
                "y_pred = model.predict(X_test_tfidf)\n",
                "print(f\"Baseline Accuracy: {accuracy_score(y_test, y_pred):.4f}\")"
            ]
        },
        {
            "cell_type": "markdown",
            "metadata": {},
            "source": [
                "### 3.2. Hyperparameter optimization"
            ]
        },
        {
            "cell_type": "code",
            "execution_count": 12,
            "metadata": {},
            "outputs": [
                {
                    "name": "stdout",
                    "output_type": "stream",
                    "text": [
                        "Best parameters: {'C': 10, 'kernel': 'rbf'}\n"
                    ]
                }
            ],
            "source": [
                "# Do the optimization\n",
                "param_grid = {'C': [0.1, 1, 10], 'kernel': ['linear', 'rbf']}\n",
                "grid_search = GridSearchCV(SVC(), param_grid, cv=5, scoring='accuracy')\n",
                "grid_search.fit(X_train_tfidf, y_train)\n",
                "\n",
                "print(\"Best parameters:\", grid_search.best_params_)"
            ]
        },
        {
            "cell_type": "code",
            "execution_count": 13,
            "metadata": {},
            "outputs": [],
            "source": [
                "# Use cross-validation to evaluate a new model trained with the best hyperparameter values from the optimization"
            ]
        },
        {
            "cell_type": "markdown",
            "metadata": {},
            "source": [
                "## 4. Model evaluation"
            ]
        },
        {
            "cell_type": "code",
            "execution_count": 14,
            "metadata": {},
            "outputs": [],
            "source": [
                "# Finally, try the model out on the test data. Be sure to process the test data the same way you did the training data!\n",
                "X_test_processed = X_test.apply(preprocess_url).apply(lemmatize_url)\n",
                "X_test_vectorized = vectorizer.transform(X_test_processed)"
            ]
        },
        {
            "cell_type": "code",
            "execution_count": 15,
            "metadata": {},
            "outputs": [
                {
                    "name": "stdout",
                    "output_type": "stream",
                    "text": [
                        "              precision    recall  f1-score   support\n",
                        "\n",
                        "       False       0.95      0.98      0.96       461\n",
                        "        True       0.91      0.81      0.86       139\n",
                        "\n",
                        "    accuracy                           0.94       600\n",
                        "   macro avg       0.93      0.89      0.91       600\n",
                        "weighted avg       0.94      0.94      0.94       600\n",
                        "\n"
                    ]
                },
                {
                    "data": {
                        "image/png": "[encoded data removed]",
                        "text/plain": [
                            "<Figure size 640x480 with 2 Axes>"
                        ]
                    },
                    "metadata": {},
                    "output_type": "display_data"
                }
            ],
            "source": [
                "y_test_pred = model.predict(X_test_vectorized)\n",
                "print(classification_report(y_test, y_test_pred))\n",
                "\n",
                "conf_matrix = confusion_matrix(y_test, y_test_pred)\n",
                "sns.heatmap(conf_matrix, annot=True, fmt=\"d\")\n",
                "plt.xlabel(\"Predicted\")\n",
                "plt.ylabel(\"Actual\")\n",
                "plt.title(\"Confusion Matrix\")\n",
                "plt.show()"
            ]
        },
        {
            "cell_type": "code",
            "execution_count": 16,
            "metadata": {},
            "outputs": [
                {
                    "name": "stdout",
                    "output_type": "stream",
                    "text": [
                        "Baseline model saved as 'baseline_spam_detector.pkl'\n"
                    ]
                }
            ],
            "source": [
                "import joblib\n",
                "\n",
                "joblib.dump(model, 'baseline_spam_detector.pkl')\n",
                "\n",
                "print(\"Baseline model saved as 'baseline_spam_detector.pkl'\")"
            ]
        }
    ],
    "metadata": {
        "kernelspec": {
            "display_name": "Python 3",
            "language": "python",
            "name": "python3"
        },
        "language_info": {
            "codemirror_mode": {
                "name": "ipython",
                "version": 3
            },
            "file_extension": ".py",
            "mimetype": "text/x-python",
            "name": "python",
            "nbconvert_exporter": "python",
            "pygments_lexer": "ipython3",
            "version": "3.11.4"
        },
        "orig_nbformat": 4
    },
    "nbformat": 4,
    "nbformat_minor": 2
}
